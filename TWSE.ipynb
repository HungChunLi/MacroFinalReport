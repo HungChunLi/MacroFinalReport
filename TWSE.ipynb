{
  "nbformat": 4,
  "nbformat_minor": 0,
  "metadata": {
    "colab": {
      "provenance": [],
      "authorship_tag": "ABX9TyOi4nlsbljIPtdebKjGullc",
      "include_colab_link": true
    },
    "kernelspec": {
      "name": "python3",
      "display_name": "Python 3"
    },
    "language_info": {
      "name": "python"
    }
  },
  "cells": [
    {
      "cell_type": "markdown",
      "metadata": {
        "id": "view-in-github",
        "colab_type": "text"
      },
      "source": [
        "<a href=\"https://colab.research.google.com/github/HungChunLi/MacroFinalReport/blob/main/TWSE.ipynb\" target=\"_parent\"><img src=\"https://colab.research.google.com/assets/colab-badge.svg\" alt=\"Open In Colab\"/></a>"
      ]
    },
    {
      "cell_type": "code",
      "execution_count": null,
      "metadata": {
        "id": "QLzVTc33kyEe"
      },
      "outputs": [],
      "source": [
        "import pandas as pd\n",
        "import numpy as np\n",
        "import matplotlib.pyplot as plt\n",
        "from sklearn.linear_model import Lasso, LassoCV\n",
        "from sklearn.preprocessing import StandardScaler\n",
        "from sklearn.metrics import mean_squared_error\n",
        "import warnings"
      ]
    },
    {
      "cell_type": "code",
      "source": [
        "!wget NYSE_trade.parquet https://www.dropbox.com/s/48oqlt9ydaz2qsg/NYSE_trade.parquet?dl=0"
      ],
      "metadata": {
        "id": "e3E0kVrkm6nd"
      },
      "execution_count": null,
      "outputs": []
    }
  ]
}